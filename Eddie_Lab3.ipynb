{
 "cells": [
  {
   "cell_type": "code",
   "execution_count": null,
   "metadata": {},
   "outputs": [],
   "source": [
    "## GEOG458\n",
    "## Xinbo Lu, Wenjin Yu, Jody Tran\n",
    "## 2/15/2019\n",
    "## Group Lab 3\n",
    "import sys\n",
    "sys.path.append('D:\\\\ArcMap\\\\Arcmap\\\\Desktop10.5\\\\bin')\n",
    "sys.path.append('D:\\\\ArcMap\\\\Arcmap\\\\Desktop10.5\\\\arcpy')\n",
    "sys.path.append('D:\\\\ArcMap\\\\Arcmap\\\\Desktop10.5\\\\\\\\ArcToolbox\\\\Scripts')"
   ]
  },
  {
   "cell_type": "code",
   "execution_count": 1,
   "metadata": {},
   "outputs": [],
   "source": [
    "import geopandas as gpd\n",
    "import matplotlib as mpl\n",
    "%matplotlib inline"
   ]
  },
  {
   "cell_type": "code",
   "execution_count": 19,
   "metadata": {
    "collapsed": true
   },
   "outputs": [
    {
     "data": {
      "text/html": [
       "<div>\n",
       "<style scoped>\n",
       "    .dataframe tbody tr th:only-of-type {\n",
       "        vertical-align: middle;\n",
       "    }\n",
       "\n",
       "    .dataframe tbody tr th {\n",
       "        vertical-align: top;\n",
       "    }\n",
       "\n",
       "    .dataframe thead th {\n",
       "        text-align: right;\n",
       "    }\n",
       "</style>\n",
       "<table border=\"1\" class=\"dataframe\">\n",
       "  <thead>\n",
       "    <tr style=\"text-align: right;\">\n",
       "      <th></th>\n",
       "      <th>STATEFP10</th>\n",
       "      <th>COUNTYFP10</th>\n",
       "      <th>TRACTCE10</th>\n",
       "      <th>BLKGRPCE10</th>\n",
       "      <th>GEOID10</th>\n",
       "      <th>NAMELSAD10</th>\n",
       "      <th>MTFCC10</th>\n",
       "      <th>FUNCSTAT10</th>\n",
       "      <th>INTPTLON10</th>\n",
       "      <th>INTPTLAT10</th>\n",
       "      <th>...</th>\n",
       "      <th>OHU2014</th>\n",
       "      <th>OHU2015</th>\n",
       "      <th>OHU2016</th>\n",
       "      <th>OHU2017</th>\n",
       "      <th>OHU2018</th>\n",
       "      <th>COHU00_10</th>\n",
       "      <th>PCOHU00_10</th>\n",
       "      <th>COHU10_18</th>\n",
       "      <th>PCOHU10_18</th>\n",
       "      <th>geometry</th>\n",
       "    </tr>\n",
       "  </thead>\n",
       "  <tbody>\n",
       "    <tr>\n",
       "      <th>0</th>\n",
       "      <td>53</td>\n",
       "      <td>001</td>\n",
       "      <td>950100</td>\n",
       "      <td>1</td>\n",
       "      <td>530019501001</td>\n",
       "      <td>Block Group 1</td>\n",
       "      <td>G5030</td>\n",
       "      <td>S</td>\n",
       "      <td>-118.398815</td>\n",
       "      <td>47.150809</td>\n",
       "      <td>...</td>\n",
       "      <td>277.494</td>\n",
       "      <td>279.680</td>\n",
       "      <td>287.530</td>\n",
       "      <td>287.522</td>\n",
       "      <td>287.758</td>\n",
       "      <td>33.751</td>\n",
       "      <td>0.143</td>\n",
       "      <td>17.758</td>\n",
       "      <td>0.066</td>\n",
       "      <td>POLYGON ((2077217.074095237 640954.0110817049,...</td>\n",
       "    </tr>\n",
       "    <tr>\n",
       "      <th>1</th>\n",
       "      <td>53</td>\n",
       "      <td>001</td>\n",
       "      <td>950100</td>\n",
       "      <td>2</td>\n",
       "      <td>530019501002</td>\n",
       "      <td>Block Group 2</td>\n",
       "      <td>G5030</td>\n",
       "      <td>S</td>\n",
       "      <td>-118.351143</td>\n",
       "      <td>47.135101</td>\n",
       "      <td>...</td>\n",
       "      <td>524.831</td>\n",
       "      <td>521.228</td>\n",
       "      <td>517.427</td>\n",
       "      <td>516.077</td>\n",
       "      <td>524.645</td>\n",
       "      <td>3.398</td>\n",
       "      <td>0.007</td>\n",
       "      <td>-0.355</td>\n",
       "      <td>0.000</td>\n",
       "      <td>POLYGON ((2165913.051240579 657352.8005365322,...</td>\n",
       "    </tr>\n",
       "    <tr>\n",
       "      <th>2</th>\n",
       "      <td>53</td>\n",
       "      <td>001</td>\n",
       "      <td>950100</td>\n",
       "      <td>3</td>\n",
       "      <td>530019501003</td>\n",
       "      <td>Block Group 3</td>\n",
       "      <td>G5030</td>\n",
       "      <td>S</td>\n",
       "      <td>-118.382148</td>\n",
       "      <td>47.138222</td>\n",
       "      <td>...</td>\n",
       "      <td>246.344</td>\n",
       "      <td>243.965</td>\n",
       "      <td>242.033</td>\n",
       "      <td>241.365</td>\n",
       "      <td>245.491</td>\n",
       "      <td>-26.312</td>\n",
       "      <td>-0.097</td>\n",
       "      <td>-0.509</td>\n",
       "      <td>-0.002</td>\n",
       "      <td>POLYGON ((2166254.454566129 657810.7137267586,...</td>\n",
       "    </tr>\n",
       "    <tr>\n",
       "      <th>3</th>\n",
       "      <td>53</td>\n",
       "      <td>001</td>\n",
       "      <td>950200</td>\n",
       "      <td>1</td>\n",
       "      <td>530019502001</td>\n",
       "      <td>Block Group 1</td>\n",
       "      <td>G5030</td>\n",
       "      <td>S</td>\n",
       "      <td>-118.219484</td>\n",
       "      <td>46.874027</td>\n",
       "      <td>...</td>\n",
       "      <td>208.923</td>\n",
       "      <td>203.761</td>\n",
       "      <td>205.502</td>\n",
       "      <td>204.547</td>\n",
       "      <td>202.854</td>\n",
       "      <td>-21.255</td>\n",
       "      <td>-0.093</td>\n",
       "      <td>-5.146</td>\n",
       "      <td>-0.025</td>\n",
       "      <td>POLYGON ((2150159.78406948 554295.8999707697, ...</td>\n",
       "    </tr>\n",
       "    <tr>\n",
       "      <th>4</th>\n",
       "      <td>53</td>\n",
       "      <td>001</td>\n",
       "      <td>950200</td>\n",
       "      <td>2</td>\n",
       "      <td>530019502002</td>\n",
       "      <td>Block Group 2</td>\n",
       "      <td>G5030</td>\n",
       "      <td>S</td>\n",
       "      <td>-118.522323</td>\n",
       "      <td>46.968569</td>\n",
       "      <td>...</td>\n",
       "      <td>285.857</td>\n",
       "      <td>286.251</td>\n",
       "      <td>278.398</td>\n",
       "      <td>278.400</td>\n",
       "      <td>267.983</td>\n",
       "      <td>-1.330</td>\n",
       "      <td>-0.005</td>\n",
       "      <td>-22.017</td>\n",
       "      <td>-0.076</td>\n",
       "      <td>POLYGON ((2082999.834788324 575018.8611698836,...</td>\n",
       "    </tr>\n",
       "  </tbody>\n",
       "</table>\n",
       "<p>5 rows × 131 columns</p>\n",
       "</div>"
      ],
      "text/plain": [
       "  STATEFP10 COUNTYFP10 TRACTCE10 BLKGRPCE10       GEOID10     NAMELSAD10  \\\n",
       "0        53        001    950100          1  530019501001  Block Group 1   \n",
       "1        53        001    950100          2  530019501002  Block Group 2   \n",
       "2        53        001    950100          3  530019501003  Block Group 3   \n",
       "3        53        001    950200          1  530019502001  Block Group 1   \n",
       "4        53        001    950200          2  530019502002  Block Group 2   \n",
       "\n",
       "  MTFCC10 FUNCSTAT10  INTPTLON10  INTPTLAT10  ...  OHU2014  OHU2015  OHU2016  \\\n",
       "0   G5030          S -118.398815   47.150809  ...  277.494  279.680  287.530   \n",
       "1   G5030          S -118.351143   47.135101  ...  524.831  521.228  517.427   \n",
       "2   G5030          S -118.382148   47.138222  ...  246.344  243.965  242.033   \n",
       "3   G5030          S -118.219484   46.874027  ...  208.923  203.761  205.502   \n",
       "4   G5030          S -118.522323   46.968569  ...  285.857  286.251  278.398   \n",
       "\n",
       "   OHU2017  OHU2018  COHU00_10  PCOHU00_10  COHU10_18  PCOHU10_18  \\\n",
       "0  287.522  287.758     33.751       0.143     17.758       0.066   \n",
       "1  516.077  524.645      3.398       0.007     -0.355       0.000   \n",
       "2  241.365  245.491    -26.312      -0.097     -0.509      -0.002   \n",
       "3  204.547  202.854    -21.255      -0.093     -5.146      -0.025   \n",
       "4  278.400  267.983     -1.330      -0.005    -22.017      -0.076   \n",
       "\n",
       "                                            geometry  \n",
       "0  POLYGON ((2077217.074095237 640954.0110817049,...  \n",
       "1  POLYGON ((2165913.051240579 657352.8005365322,...  \n",
       "2  POLYGON ((2166254.454566129 657810.7137267586,...  \n",
       "3  POLYGON ((2150159.78406948 554295.8999707697, ...  \n",
       "4  POLYGON ((2082999.834788324 575018.8611698836,...  \n",
       "\n",
       "[5 rows x 131 columns]"
      ]
     },
     "execution_count": 19,
     "metadata": {},
     "output_type": "execute_result"
    }
   ],
   "source": [
    "WA_bg = gpd.read_file(\"C:/Users/LXB19/Documents/GEOG458/GroupLab3/saep_bg10_Copy/saep_bg10.shp\")\n",
    "FIPS_to_CountyNames_gdf = gpd.read_file(\"C:/Users/LXB19/Documents/GEOG458/GroupLab3/WashingtonFIPS_copy.dbf\")\n",
    "WA_bg.head(5)"
   ]
  },
  {
   "cell_type": "code",
   "execution_count": 21,
   "metadata": {},
   "outputs": [
    {
     "name": "stdout",
     "output_type": "stream",
     "text": [
      "Initial table: \n",
      "  CountyName FIPSCounty geometry\n",
      "0      Adams        001     None\n",
      "1     Asotin        003     None\n",
      "2     Benton        005     None\n",
      "3     Chelan        007     None\n",
      "4    Clallam        009     None\n"
     ]
    }
   ],
   "source": [
    "print \"Initial table: \"\n",
    "print FIPS_to_CountyNames_gdf.head(5)"
   ]
  },
  {
   "cell_type": "code",
   "execution_count": 22,
   "metadata": {
    "scrolled": true
   },
   "outputs": [
    {
     "name": "stdout",
     "output_type": "stream",
     "text": [
      "\n",
      "After preparation for merge (join): \n",
      "  CountyName COUNTYFP10\n",
      "0      Adams        001\n",
      "1     Asotin        003\n",
      "2     Benton        005\n",
      "3     Chelan        007\n",
      "4    Clallam        009\n"
     ]
    }
   ],
   "source": [
    "FIPS_to_CountyNames_gdf.rename(columns={'FIPSCounty':'COUNTYFP10'},inplace=True)\n",
    "FIPS_to_CountyNames_gdf.drop('geometry', axis=1, inplace=True)\n",
    "print\n",
    "print \"After preparation for merge (join): \"\n",
    "print FIPS_to_CountyNames_gdf.head()"
   ]
  },
  {
   "cell_type": "code",
   "execution_count": 24,
   "metadata": {},
   "outputs": [
    {
     "data": {
      "text/plain": [
       "geopandas.geodataframe.GeoDataFrame"
      ]
     },
     "execution_count": 24,
     "metadata": {},
     "output_type": "execute_result"
    }
   ],
   "source": [
    "JOINING_KEY = 'COUNTYFP10'\n",
    "WA_bg_with_CountyName = WA_bg.merge(FIPS_to_CountyNames_gdf, on=JOINING_KEY)\n",
    "WA_bg_with_CountyName.head()\n",
    "type(WA_bg_with_CountyName)"
   ]
  },
  {
   "cell_type": "code",
   "execution_count": 20,
   "metadata": {
    "collapsed": true
   },
   "outputs": [
    {
     "name": "stdout",
     "output_type": "stream",
     "text": [
      "Outputting Adams.geojson\n",
      "Outputting Asotin.geojson\n",
      "Outputting Benton.geojson\n",
      "Outputting Chelan.geojson\n",
      "Outputting Clallam.geojson\n",
      "Outputting Clark.geojson\n",
      "Outputting Columbia.geojson\n",
      "Outputting Cowlitz.geojson\n",
      "Outputting Douglas.geojson\n",
      "Outputting Ferry.geojson\n",
      "Outputting Franklin.geojson\n",
      "Outputting Garfield.geojson\n",
      "Outputting Grant.geojson\n",
      "Outputting Grays Harbor.geojson\n",
      "Outputting Island.geojson\n",
      "Outputting Jefferson.geojson\n",
      "Outputting King.geojson\n",
      "Outputting Kitsap.geojson\n",
      "Outputting Kittitas.geojson\n",
      "Outputting Klickitat.geojson\n",
      "Outputting Lewis.geojson\n",
      "Outputting Lincoln.geojson\n",
      "Outputting Mason.geojson\n",
      "Outputting Okanogan.geojson\n",
      "Outputting Pacific.geojson\n",
      "Outputting Pend Oreille.geojson\n",
      "Outputting Pierce.geojson\n",
      "Outputting San Juan.geojson\n",
      "Outputting Skagit.geojson\n",
      "Outputting Skamania.geojson\n",
      "Outputting Snohomish.geojson\n",
      "Outputting Spokane.geojson\n",
      "Outputting Stevens.geojson\n",
      "Outputting Thurston.geojson\n",
      "Outputting Wahkiakum.geojson\n",
      "Outputting Walla Walla.geojson\n",
      "Outputting Whatcom.geojson\n",
      "Outputting Whitman.geojson\n",
      "Outputting Yakima.geojson\n"
     ]
    }
   ],
   "source": [
    "WA_bg_with_CountyName_wgs84 = WA_bg_with_CountyName.to_crs(epsg=4326)\n",
    "import os  \n",
    "for county in FIPS_to_CountyNames_gdf['CountyName']:\n",
    "    filename_to_output = county+\".geojson\"\n",
    "    print \"Outputting \"+filename_to_output\n",
    "    try: \n",
    "        os.remove(filename_to_output)\n",
    "    except OSError:\n",
    "        pass\n",
    "    (WA_bg_with_CountyName_wgs84[WA_bg_with_CountyName['CountyName'] == county]\n",
    "     .to_file(filename_to_output,driver=\"GeoJSON\"))"
   ]
  },
  {
   "cell_type": "code",
   "execution_count": 22,
   "metadata": {},
   "outputs": [],
   "source": [
    "## Print out a ranked list, in descending order, of the ten largest total populations \n",
    "## in 2017 of counties in Washington, according to this dataset.\n",
    "\n",
    "pop2017_series = WA_bg_with_CountyName.groupby(['CountyName']).sum()['POP2017'].rank(ascending=False).head(10)\n",
    "top10_POP2017_county = pop2017_series.index.tolist()"
   ]
  },
  {
   "cell_type": "code",
   "execution_count": 68,
   "metadata": {},
   "outputs": [],
   "source": [
    "## Part 3\n",
    "WA_shp = gpd.read_file(\"C:/Users/LXB19/Documents/GEOG458/GroupLab3/saep_bg10_Copy/saep_bg10.shp\")\n",
    "WA_shp.head(5)\n",
    "WA_shp['Pop_Per_sqML'] = WA_bg_with_CountyName.POP2017/WA_bg.ALANDMI + 10**-8\n",
    "\n",
    "WA_shp['Urban'] =\"\""
   ]
  },
  {
   "cell_type": "code",
   "execution_count": 69,
   "metadata": {},
   "outputs": [
    {
     "ename": "ValueError",
     "evalue": "Can only tuple-index with a MultiIndex",
     "output_type": "error",
     "traceback": [
      "\u001b[1;31m---------------------------------------------------------------------------\u001b[0m",
      "\u001b[1;31mValueError\u001b[0m                                Traceback (most recent call last)",
      "\u001b[1;32m<ipython-input-69-2cf1cdac4153>\u001b[0m in \u001b[0;36m<module>\u001b[1;34m()\u001b[0m\n\u001b[0;32m      1\u001b[0m \u001b[1;32mfor\u001b[0m \u001b[0mvalues\u001b[0m \u001b[1;32min\u001b[0m \u001b[0mWA_shp\u001b[0m\u001b[1;33m.\u001b[0m\u001b[0miterrows\u001b[0m\u001b[1;33m(\u001b[0m\u001b[1;33m)\u001b[0m\u001b[1;33m:\u001b[0m\u001b[1;33m\u001b[0m\u001b[0m\n\u001b[1;32m----> 2\u001b[1;33m     \u001b[1;32mif\u001b[0m\u001b[1;33m(\u001b[0m\u001b[0mWA_shp\u001b[0m\u001b[1;33m.\u001b[0m\u001b[0mPop_Per_sqML\u001b[0m\u001b[1;33m[\u001b[0m\u001b[0mvalues\u001b[0m\u001b[1;33m]\u001b[0m \u001b[1;33m>=\u001b[0m \u001b[1;36m500\u001b[0m\u001b[1;33m)\u001b[0m\u001b[1;33m:\u001b[0m\u001b[1;33m\u001b[0m\u001b[0m\n\u001b[0m\u001b[0;32m      3\u001b[0m         \u001b[0mWA_shp\u001b[0m\u001b[1;33m.\u001b[0m\u001b[0mUrban\u001b[0m\u001b[1;33m[\u001b[0m\u001b[0mvalues\u001b[0m\u001b[1;33m]\u001b[0m \u001b[1;33m=\u001b[0m \u001b[1;34m\"TRUE\"\u001b[0m\u001b[1;33m\u001b[0m\u001b[0m\n\u001b[0;32m      4\u001b[0m     \u001b[1;32melse\u001b[0m\u001b[1;33m:\u001b[0m\u001b[1;33m\u001b[0m\u001b[0m\n\u001b[0;32m      5\u001b[0m         \u001b[0mWA_shp\u001b[0m\u001b[1;33m.\u001b[0m\u001b[0mUrban\u001b[0m\u001b[1;33m[\u001b[0m\u001b[0mvalues\u001b[0m\u001b[1;33m]\u001b[0m \u001b[1;33m=\u001b[0m \u001b[1;34m\"FALSE\"\u001b[0m\u001b[1;33m\u001b[0m\u001b[0m\n",
      "\u001b[1;32mD:\\anaconda2\\envs\\geog458\\lib\\site-packages\\pandas\\core\\series.pyc\u001b[0m in \u001b[0;36m__getitem__\u001b[1;34m(self, key)\u001b[0m\n\u001b[0;32m    909\u001b[0m             \u001b[0mkey\u001b[0m \u001b[1;33m=\u001b[0m \u001b[0mcheck_bool_indexer\u001b[0m\u001b[1;33m(\u001b[0m\u001b[0mself\u001b[0m\u001b[1;33m.\u001b[0m\u001b[0mindex\u001b[0m\u001b[1;33m,\u001b[0m \u001b[0mkey\u001b[0m\u001b[1;33m)\u001b[0m\u001b[1;33m\u001b[0m\u001b[0m\n\u001b[0;32m    910\u001b[0m \u001b[1;33m\u001b[0m\u001b[0m\n\u001b[1;32m--> 911\u001b[1;33m         \u001b[1;32mreturn\u001b[0m \u001b[0mself\u001b[0m\u001b[1;33m.\u001b[0m\u001b[0m_get_with\u001b[0m\u001b[1;33m(\u001b[0m\u001b[0mkey\u001b[0m\u001b[1;33m)\u001b[0m\u001b[1;33m\u001b[0m\u001b[0m\n\u001b[0m\u001b[0;32m    912\u001b[0m \u001b[1;33m\u001b[0m\u001b[0m\n\u001b[0;32m    913\u001b[0m     \u001b[1;32mdef\u001b[0m \u001b[0m_get_with\u001b[0m\u001b[1;33m(\u001b[0m\u001b[0mself\u001b[0m\u001b[1;33m,\u001b[0m \u001b[0mkey\u001b[0m\u001b[1;33m)\u001b[0m\u001b[1;33m:\u001b[0m\u001b[1;33m\u001b[0m\u001b[0m\n",
      "\u001b[1;32mD:\\anaconda2\\envs\\geog458\\lib\\site-packages\\pandas\\core\\series.pyc\u001b[0m in \u001b[0;36m_get_with\u001b[1;34m(self, key)\u001b[0m\n\u001b[0;32m    921\u001b[0m         \u001b[1;32melif\u001b[0m \u001b[0misinstance\u001b[0m\u001b[1;33m(\u001b[0m\u001b[0mkey\u001b[0m\u001b[1;33m,\u001b[0m \u001b[0mtuple\u001b[0m\u001b[1;33m)\u001b[0m\u001b[1;33m:\u001b[0m\u001b[1;33m\u001b[0m\u001b[0m\n\u001b[0;32m    922\u001b[0m             \u001b[1;32mtry\u001b[0m\u001b[1;33m:\u001b[0m\u001b[1;33m\u001b[0m\u001b[0m\n\u001b[1;32m--> 923\u001b[1;33m                 \u001b[1;32mreturn\u001b[0m \u001b[0mself\u001b[0m\u001b[1;33m.\u001b[0m\u001b[0m_get_values_tuple\u001b[0m\u001b[1;33m(\u001b[0m\u001b[0mkey\u001b[0m\u001b[1;33m)\u001b[0m\u001b[1;33m\u001b[0m\u001b[0m\n\u001b[0m\u001b[0;32m    924\u001b[0m             \u001b[1;32mexcept\u001b[0m \u001b[0mException\u001b[0m\u001b[1;33m:\u001b[0m\u001b[1;33m\u001b[0m\u001b[0m\n\u001b[0;32m    925\u001b[0m                 \u001b[1;32mif\u001b[0m \u001b[0mlen\u001b[0m\u001b[1;33m(\u001b[0m\u001b[0mkey\u001b[0m\u001b[1;33m)\u001b[0m \u001b[1;33m==\u001b[0m \u001b[1;36m1\u001b[0m\u001b[1;33m:\u001b[0m\u001b[1;33m\u001b[0m\u001b[0m\n",
      "\u001b[1;32mD:\\anaconda2\\envs\\geog458\\lib\\site-packages\\pandas\\core\\series.pyc\u001b[0m in \u001b[0;36m_get_values_tuple\u001b[1;34m(self, key)\u001b[0m\n\u001b[0;32m    966\u001b[0m \u001b[1;33m\u001b[0m\u001b[0m\n\u001b[0;32m    967\u001b[0m         \u001b[1;32mif\u001b[0m \u001b[1;32mnot\u001b[0m \u001b[0misinstance\u001b[0m\u001b[1;33m(\u001b[0m\u001b[0mself\u001b[0m\u001b[1;33m.\u001b[0m\u001b[0mindex\u001b[0m\u001b[1;33m,\u001b[0m \u001b[0mMultiIndex\u001b[0m\u001b[1;33m)\u001b[0m\u001b[1;33m:\u001b[0m\u001b[1;33m\u001b[0m\u001b[0m\n\u001b[1;32m--> 968\u001b[1;33m             \u001b[1;32mraise\u001b[0m \u001b[0mValueError\u001b[0m\u001b[1;33m(\u001b[0m\u001b[1;34m'Can only tuple-index with a MultiIndex'\u001b[0m\u001b[1;33m)\u001b[0m\u001b[1;33m\u001b[0m\u001b[0m\n\u001b[0m\u001b[0;32m    969\u001b[0m \u001b[1;33m\u001b[0m\u001b[0m\n\u001b[0;32m    970\u001b[0m         \u001b[1;31m# If key is contained, would have returned by now\u001b[0m\u001b[1;33m\u001b[0m\u001b[1;33m\u001b[0m\u001b[0m\n",
      "\u001b[1;31mValueError\u001b[0m: Can only tuple-index with a MultiIndex"
     ]
    }
   ],
   "source": [
    "for values in WA_shp.iterrows():\n",
    "    if(WA_shp.Pop_Per_sqML[values] >= 500):\n",
    "        WA_shp.Urban[values] = \"TRUE\"\n",
    "    else:\n",
    "        WA_shp.Urban[values] = \"FALSE\""
   ]
  },
  {
   "cell_type": "code",
   "execution_count": 33,
   "metadata": {},
   "outputs": [
    {
     "name": "stdout",
     "output_type": "stream",
     "text": [
      "The percentage of the population of the state is urbanized in 2017 is 80.16 %\n"
     ]
    }
   ],
   "source": [
    "##WA_shp['Pop_Per_sqML'] = WA_bg_with_CountyName.POP2017/WA_bg.ALANDMI + 10**-8\n",
    "UrbanArea = WA_shp[(WA_shp['Pop_Per_sqML'] >= 500)]\n",
    "UrbanPopPercent = round(sum(UrbanArea.POP2017 / sum(WA_shp.POP2017)) * 100, 2)\n",
    "print \"The percentage of the population of the state is urbanized in 2017 is\", UrbanPopPercent, \"%\""
   ]
  },
  {
   "cell_type": "code",
   "execution_count": null,
   "metadata": {},
   "outputs": [],
   "source": []
  }
 ],
 "metadata": {
  "kernelspec": {
   "display_name": "Python 2",
   "language": "python",
   "name": "python2"
  },
  "language_info": {
   "codemirror_mode": {
    "name": "ipython",
    "version": 2
   },
   "file_extension": ".py",
   "mimetype": "text/x-python",
   "name": "python",
   "nbconvert_exporter": "python",
   "pygments_lexer": "ipython2",
   "version": "2.7.15"
  }
 },
 "nbformat": 4,
 "nbformat_minor": 2
}
