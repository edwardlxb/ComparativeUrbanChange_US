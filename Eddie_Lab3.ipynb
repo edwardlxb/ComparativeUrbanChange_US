{
 "cells": [
  {
   "cell_type": "code",
   "execution_count": null,
   "metadata": {},
   "outputs": [],
   "source": [
    "## GEOG458\n",
    "## Xinbo Lu, Wenjin Yu, Jody Tran\n",
    "## 2/15/2019\n",
    "## Group Lab 3\n",
    "import sys\n",
    "sys.path.append('D:\\\\ArcMap\\\\Arcmap\\\\Desktop10.5\\\\bin')\n",
    "sys.path.append('D:\\\\ArcMap\\\\Arcmap\\\\Desktop10.5\\\\arcpy')\n",
    "sys.path.append('D:\\\\ArcMap\\\\Arcmap\\\\Desktop10.5\\\\\\\\ArcToolbox\\\\Scripts')"
   ]
  },
  {
   "cell_type": "code",
   "execution_count": 35,
   "metadata": {},
   "outputs": [],
   "source": [
    "import pandas as pd\n",
    "import numpy as np\n",
    "import geopandas as gpd\n",
    "import matplotlib as mpl\n",
    "%matplotlib inline"
   ]
  },
  {
   "cell_type": "code",
   "execution_count": 79,
   "metadata": {
    "collapsed": true
   },
   "outputs": [
    {
     "data": {
      "text/html": [
       "<div>\n",
       "<style scoped>\n",
       "    .dataframe tbody tr th:only-of-type {\n",
       "        vertical-align: middle;\n",
       "    }\n",
       "\n",
       "    .dataframe tbody tr th {\n",
       "        vertical-align: top;\n",
       "    }\n",
       "\n",
       "    .dataframe thead th {\n",
       "        text-align: right;\n",
       "    }\n",
       "</style>\n",
       "<table border=\"1\" class=\"dataframe\">\n",
       "  <thead>\n",
       "    <tr style=\"text-align: right;\">\n",
       "      <th></th>\n",
       "      <th>STATEFP10</th>\n",
       "      <th>COUNTYFP10</th>\n",
       "      <th>TRACTCE10</th>\n",
       "      <th>BLKGRPCE10</th>\n",
       "      <th>GEOID10</th>\n",
       "      <th>NAMELSAD10</th>\n",
       "      <th>MTFCC10</th>\n",
       "      <th>FUNCSTAT10</th>\n",
       "      <th>INTPTLON10</th>\n",
       "      <th>INTPTLAT10</th>\n",
       "      <th>...</th>\n",
       "      <th>OHU2014</th>\n",
       "      <th>OHU2015</th>\n",
       "      <th>OHU2016</th>\n",
       "      <th>OHU2017</th>\n",
       "      <th>OHU2018</th>\n",
       "      <th>COHU00_10</th>\n",
       "      <th>PCOHU00_10</th>\n",
       "      <th>COHU10_18</th>\n",
       "      <th>PCOHU10_18</th>\n",
       "      <th>geometry</th>\n",
       "    </tr>\n",
       "  </thead>\n",
       "  <tbody>\n",
       "    <tr>\n",
       "      <th>0</th>\n",
       "      <td>53</td>\n",
       "      <td>001</td>\n",
       "      <td>950100</td>\n",
       "      <td>1</td>\n",
       "      <td>530019501001</td>\n",
       "      <td>Block Group 1</td>\n",
       "      <td>G5030</td>\n",
       "      <td>S</td>\n",
       "      <td>-118.398815</td>\n",
       "      <td>47.150809</td>\n",
       "      <td>...</td>\n",
       "      <td>277.494</td>\n",
       "      <td>279.680</td>\n",
       "      <td>287.530</td>\n",
       "      <td>287.522</td>\n",
       "      <td>287.758</td>\n",
       "      <td>33.751</td>\n",
       "      <td>0.143</td>\n",
       "      <td>17.758</td>\n",
       "      <td>0.066</td>\n",
       "      <td>POLYGON ((2077217.074095237 640954.0110817049,...</td>\n",
       "    </tr>\n",
       "    <tr>\n",
       "      <th>1</th>\n",
       "      <td>53</td>\n",
       "      <td>001</td>\n",
       "      <td>950100</td>\n",
       "      <td>2</td>\n",
       "      <td>530019501002</td>\n",
       "      <td>Block Group 2</td>\n",
       "      <td>G5030</td>\n",
       "      <td>S</td>\n",
       "      <td>-118.351143</td>\n",
       "      <td>47.135101</td>\n",
       "      <td>...</td>\n",
       "      <td>524.831</td>\n",
       "      <td>521.228</td>\n",
       "      <td>517.427</td>\n",
       "      <td>516.077</td>\n",
       "      <td>524.645</td>\n",
       "      <td>3.398</td>\n",
       "      <td>0.007</td>\n",
       "      <td>-0.355</td>\n",
       "      <td>0.000</td>\n",
       "      <td>POLYGON ((2165913.051240579 657352.8005365322,...</td>\n",
       "    </tr>\n",
       "    <tr>\n",
       "      <th>2</th>\n",
       "      <td>53</td>\n",
       "      <td>001</td>\n",
       "      <td>950100</td>\n",
       "      <td>3</td>\n",
       "      <td>530019501003</td>\n",
       "      <td>Block Group 3</td>\n",
       "      <td>G5030</td>\n",
       "      <td>S</td>\n",
       "      <td>-118.382148</td>\n",
       "      <td>47.138222</td>\n",
       "      <td>...</td>\n",
       "      <td>246.344</td>\n",
       "      <td>243.965</td>\n",
       "      <td>242.033</td>\n",
       "      <td>241.365</td>\n",
       "      <td>245.491</td>\n",
       "      <td>-26.312</td>\n",
       "      <td>-0.097</td>\n",
       "      <td>-0.509</td>\n",
       "      <td>-0.002</td>\n",
       "      <td>POLYGON ((2166254.454566129 657810.7137267586,...</td>\n",
       "    </tr>\n",
       "    <tr>\n",
       "      <th>3</th>\n",
       "      <td>53</td>\n",
       "      <td>001</td>\n",
       "      <td>950200</td>\n",
       "      <td>1</td>\n",
       "      <td>530019502001</td>\n",
       "      <td>Block Group 1</td>\n",
       "      <td>G5030</td>\n",
       "      <td>S</td>\n",
       "      <td>-118.219484</td>\n",
       "      <td>46.874027</td>\n",
       "      <td>...</td>\n",
       "      <td>208.923</td>\n",
       "      <td>203.761</td>\n",
       "      <td>205.502</td>\n",
       "      <td>204.547</td>\n",
       "      <td>202.854</td>\n",
       "      <td>-21.255</td>\n",
       "      <td>-0.093</td>\n",
       "      <td>-5.146</td>\n",
       "      <td>-0.025</td>\n",
       "      <td>POLYGON ((2150159.78406948 554295.8999707697, ...</td>\n",
       "    </tr>\n",
       "    <tr>\n",
       "      <th>4</th>\n",
       "      <td>53</td>\n",
       "      <td>001</td>\n",
       "      <td>950200</td>\n",
       "      <td>2</td>\n",
       "      <td>530019502002</td>\n",
       "      <td>Block Group 2</td>\n",
       "      <td>G5030</td>\n",
       "      <td>S</td>\n",
       "      <td>-118.522323</td>\n",
       "      <td>46.968569</td>\n",
       "      <td>...</td>\n",
       "      <td>285.857</td>\n",
       "      <td>286.251</td>\n",
       "      <td>278.398</td>\n",
       "      <td>278.400</td>\n",
       "      <td>267.983</td>\n",
       "      <td>-1.330</td>\n",
       "      <td>-0.005</td>\n",
       "      <td>-22.017</td>\n",
       "      <td>-0.076</td>\n",
       "      <td>POLYGON ((2082999.834788324 575018.8611698836,...</td>\n",
       "    </tr>\n",
       "  </tbody>\n",
       "</table>\n",
       "<p>5 rows × 131 columns</p>\n",
       "</div>"
      ],
      "text/plain": [
       "  STATEFP10 COUNTYFP10 TRACTCE10 BLKGRPCE10       GEOID10     NAMELSAD10  \\\n",
       "0        53        001    950100          1  530019501001  Block Group 1   \n",
       "1        53        001    950100          2  530019501002  Block Group 2   \n",
       "2        53        001    950100          3  530019501003  Block Group 3   \n",
       "3        53        001    950200          1  530019502001  Block Group 1   \n",
       "4        53        001    950200          2  530019502002  Block Group 2   \n",
       "\n",
       "  MTFCC10 FUNCSTAT10  INTPTLON10  INTPTLAT10  ...  OHU2014  OHU2015  OHU2016  \\\n",
       "0   G5030          S -118.398815   47.150809  ...  277.494  279.680  287.530   \n",
       "1   G5030          S -118.351143   47.135101  ...  524.831  521.228  517.427   \n",
       "2   G5030          S -118.382148   47.138222  ...  246.344  243.965  242.033   \n",
       "3   G5030          S -118.219484   46.874027  ...  208.923  203.761  205.502   \n",
       "4   G5030          S -118.522323   46.968569  ...  285.857  286.251  278.398   \n",
       "\n",
       "   OHU2017  OHU2018  COHU00_10  PCOHU00_10  COHU10_18  PCOHU10_18  \\\n",
       "0  287.522  287.758     33.751       0.143     17.758       0.066   \n",
       "1  516.077  524.645      3.398       0.007     -0.355       0.000   \n",
       "2  241.365  245.491    -26.312      -0.097     -0.509      -0.002   \n",
       "3  204.547  202.854    -21.255      -0.093     -5.146      -0.025   \n",
       "4  278.400  267.983     -1.330      -0.005    -22.017      -0.076   \n",
       "\n",
       "                                            geometry  \n",
       "0  POLYGON ((2077217.074095237 640954.0110817049,...  \n",
       "1  POLYGON ((2165913.051240579 657352.8005365322,...  \n",
       "2  POLYGON ((2166254.454566129 657810.7137267586,...  \n",
       "3  POLYGON ((2150159.78406948 554295.8999707697, ...  \n",
       "4  POLYGON ((2082999.834788324 575018.8611698836,...  \n",
       "\n",
       "[5 rows x 131 columns]"
      ]
     },
     "execution_count": 79,
     "metadata": {},
     "output_type": "execute_result"
    }
   ],
   "source": [
    "WA_bg = gpd.read_file(\"C:/Users/LXB19/Documents/GEOG458/GroupLab3/saep_bg10_Copy/saep_bg10.shp\")\n",
    "FIPS_to_CountyNames_gdf = gpd.read_file(\"C:/Users/LXB19/Documents/GEOG458/GroupLab3/WashingtonFIPS_copy.dbf\")\n",
    "WA_bg.head(5)"
   ]
  },
  {
   "cell_type": "code",
   "execution_count": 21,
   "metadata": {},
   "outputs": [
    {
     "name": "stdout",
     "output_type": "stream",
     "text": [
      "Initial table: \n",
      "  CountyName FIPSCounty geometry\n",
      "0      Adams        001     None\n",
      "1     Asotin        003     None\n",
      "2     Benton        005     None\n",
      "3     Chelan        007     None\n",
      "4    Clallam        009     None\n"
     ]
    }
   ],
   "source": [
    "print \"Initial table: \"\n",
    "print FIPS_to_CountyNames_gdf.head(5)"
   ]
  },
  {
   "cell_type": "code",
   "execution_count": 80,
   "metadata": {
    "scrolled": true
   },
   "outputs": [
    {
     "name": "stdout",
     "output_type": "stream",
     "text": [
      "\n",
      "After preparation for merge (join): \n",
      "  CountyName COUNTYFP10\n",
      "0      Adams        001\n",
      "1     Asotin        003\n",
      "2     Benton        005\n",
      "3     Chelan        007\n",
      "4    Clallam        009\n"
     ]
    }
   ],
   "source": [
    "FIPS_to_CountyNames_gdf.rename(columns={'FIPSCounty':'COUNTYFP10'},inplace=True)\n",
    "FIPS_to_CountyNames_gdf.drop('geometry', axis=1, inplace=True)\n",
    "print\n",
    "print \"After preparation for merge (join): \"\n",
    "print FIPS_to_CountyNames_gdf.head()"
   ]
  },
  {
   "cell_type": "code",
   "execution_count": 81,
   "metadata": {},
   "outputs": [
    {
     "data": {
      "text/plain": [
       "geopandas.geodataframe.GeoDataFrame"
      ]
     },
     "execution_count": 81,
     "metadata": {},
     "output_type": "execute_result"
    }
   ],
   "source": [
    "JOINING_KEY = 'COUNTYFP10'\n",
    "WA_bg_with_CountyName = WA_bg.merge(FIPS_to_CountyNames_gdf, on=JOINING_KEY)\n",
    "WA_bg_with_CountyName.head()"
   ]
  },
  {
   "cell_type": "code",
   "execution_count": 20,
   "metadata": {
    "collapsed": true
   },
   "outputs": [
    {
     "name": "stdout",
     "output_type": "stream",
     "text": [
      "Outputting Adams.geojson\n",
      "Outputting Asotin.geojson\n",
      "Outputting Benton.geojson\n",
      "Outputting Chelan.geojson\n",
      "Outputting Clallam.geojson\n",
      "Outputting Clark.geojson\n",
      "Outputting Columbia.geojson\n",
      "Outputting Cowlitz.geojson\n",
      "Outputting Douglas.geojson\n",
      "Outputting Ferry.geojson\n",
      "Outputting Franklin.geojson\n",
      "Outputting Garfield.geojson\n",
      "Outputting Grant.geojson\n",
      "Outputting Grays Harbor.geojson\n",
      "Outputting Island.geojson\n",
      "Outputting Jefferson.geojson\n",
      "Outputting King.geojson\n",
      "Outputting Kitsap.geojson\n",
      "Outputting Kittitas.geojson\n",
      "Outputting Klickitat.geojson\n",
      "Outputting Lewis.geojson\n",
      "Outputting Lincoln.geojson\n",
      "Outputting Mason.geojson\n",
      "Outputting Okanogan.geojson\n",
      "Outputting Pacific.geojson\n",
      "Outputting Pend Oreille.geojson\n",
      "Outputting Pierce.geojson\n",
      "Outputting San Juan.geojson\n",
      "Outputting Skagit.geojson\n",
      "Outputting Skamania.geojson\n",
      "Outputting Snohomish.geojson\n",
      "Outputting Spokane.geojson\n",
      "Outputting Stevens.geojson\n",
      "Outputting Thurston.geojson\n",
      "Outputting Wahkiakum.geojson\n",
      "Outputting Walla Walla.geojson\n",
      "Outputting Whatcom.geojson\n",
      "Outputting Whitman.geojson\n",
      "Outputting Yakima.geojson\n"
     ]
    }
   ],
   "source": [
    "WA_bg_with_CountyName_wgs84 = WA_bg_with_CountyName.to_crs(epsg=4326)\n",
    "import os  \n",
    "for county in FIPS_to_CountyNames_gdf['CountyName']:\n",
    "    filename_to_output = county+\".geojson\"\n",
    "    print \"Outputting \"+filename_to_output\n",
    "    try: \n",
    "        os.remove(filename_to_output)\n",
    "    except OSError:\n",
    "        pass\n",
    "    (WA_bg_with_CountyName_wgs84[WA_bg_with_CountyName['CountyName'] == county]\n",
    "     .to_file(filename_to_output,driver=\"GeoJSON\"))"
   ]
  },
  {
   "cell_type": "code",
   "execution_count": 83,
   "metadata": {},
   "outputs": [],
   "source": [
    "## Print out a ranked list, in descending order, of the ten largest total populations \n",
    "## in 2017 of counties in Washington, according to this dataset.\n",
    "\n",
    "pop2018_series = WA_bg_with_CountyName.groupby(['CountyName']).sum()['POP2018'].rank(ascending=False).head(10)\n",
    "top10_POP2017_county = pop2018_series.index.tolist()"
   ]
  },
  {
   "cell_type": "code",
   "execution_count": 84,
   "metadata": {},
   "outputs": [],
   "source": [
    "## Part 3\n",
    "WA_shp = gpd.read_file(\"C:/Users/LXB19/Documents/GEOG458/GroupLab3/saep_bg10_Copy/saep_bg10.shp\")\n",
    "WA_shp.head(5)\n",
    "WA_shp['Pop_Per_sqML'] = WA_shp.POP2018/WA_shp.ALANDMI + 10**-8\n",
    "\n",
    "WA_shp['Urban'] = np.nan"
   ]
  },
  {
   "cell_type": "code",
   "execution_count": 85,
   "metadata": {},
   "outputs": [],
   "source": [
    "WA_shp.loc[WA_shp.Pop_Per_sqML >= 500, 'Urban'] = 'TRUE'\n",
    "WA_shp.loc[WA_shp.Pop_Per_sqML < 500, 'Urban'] = 'FALSE'"
   ]
  },
  {
   "cell_type": "code",
   "execution_count": 86,
   "metadata": {},
   "outputs": [
    {
     "name": "stdout",
     "output_type": "stream",
     "text": [
      "The percentage of the population of the state is urbanized in 2018 is 80.48 %\n"
     ]
    }
   ],
   "source": [
    "##WA_shp['Pop_Per_sqML'] = WA_bg_with_CountyName.POP2017/WA_bg.ALANDMI + 10**-8\n",
    "UrbanArea = WA_shp[(WA_shp['Pop_Per_sqML'] >= 500)]\n",
    "UrbanPopPercent = round(sum(UrbanArea.POP2018 / sum(WA_shp.POP2018)) * 100, 2)\n",
    "print \"The percentage of the population of the state is urbanized in 2018 is\", UrbanPopPercent, \"%\""
   ]
  },
  {
   "cell_type": "code",
   "execution_count": 89,
   "metadata": {},
   "outputs": [
    {
     "data": {
      "text/plain": [
       "0    0.928006\n",
       "1    0.005679\n",
       "2    0.004869\n",
       "3    0.628103\n",
       "4    0.204606\n",
       "Name: ALANDMI, dtype: float64"
      ]
     },
     "execution_count": 89,
     "metadata": {},
     "output_type": "execute_result"
    }
   ],
   "source": [
    "##Write code that calculates and prints out to the screen what percentage \n",
    "##     of the land area of the state is urbanized in the most recent year.\n",
    "\n",
    "WA_shp.UrbanAreaPercent = WA_shp.ALANDMI/totalArea * 100\n",
    "WA_shp.UrbanAreaPercent.head(5)"
   ]
  },
  {
   "cell_type": "code",
   "execution_count": 75,
   "metadata": {},
   "outputs": [
    {
     "data": {
      "text/html": [
       "<div>\n",
       "<style scoped>\n",
       "    .dataframe tbody tr th:only-of-type {\n",
       "        vertical-align: middle;\n",
       "    }\n",
       "\n",
       "    .dataframe tbody tr th {\n",
       "        vertical-align: top;\n",
       "    }\n",
       "\n",
       "    .dataframe thead th {\n",
       "        text-align: right;\n",
       "    }\n",
       "</style>\n",
       "<table border=\"1\" class=\"dataframe\">\n",
       "  <thead>\n",
       "    <tr style=\"text-align: right;\">\n",
       "      <th></th>\n",
       "      <th>POP2008</th>\n",
       "      <th>POP2009</th>\n",
       "      <th>POP2010</th>\n",
       "      <th>POP2011</th>\n",
       "      <th>POP2012</th>\n",
       "      <th>POP2013</th>\n",
       "      <th>POP2014</th>\n",
       "      <th>POP2015</th>\n",
       "      <th>POP2016</th>\n",
       "      <th>POP2017</th>\n",
       "      <th>POP2018</th>\n",
       "    </tr>\n",
       "  </thead>\n",
       "  <tbody>\n",
       "    <tr>\n",
       "      <th>0</th>\n",
       "      <td>735.669</td>\n",
       "      <td>730.366</td>\n",
       "      <td>729.0</td>\n",
       "      <td>753.003</td>\n",
       "      <td>755.925</td>\n",
       "      <td>753.326</td>\n",
       "      <td>769.004</td>\n",
       "      <td>764.238</td>\n",
       "      <td>782.272</td>\n",
       "      <td>782.920</td>\n",
       "      <td>783.791</td>\n",
       "    </tr>\n",
       "    <tr>\n",
       "      <th>1</th>\n",
       "      <td>1163.429</td>\n",
       "      <td>1161.586</td>\n",
       "      <td>1166.0</td>\n",
       "      <td>1190.712</td>\n",
       "      <td>1183.453</td>\n",
       "      <td>1188.344</td>\n",
       "      <td>1167.689</td>\n",
       "      <td>1161.424</td>\n",
       "      <td>1153.162</td>\n",
       "      <td>1156.051</td>\n",
       "      <td>1146.257</td>\n",
       "    </tr>\n",
       "    <tr>\n",
       "      <th>2</th>\n",
       "      <td>560.773</td>\n",
       "      <td>554.900</td>\n",
       "      <td>552.0</td>\n",
       "      <td>559.839</td>\n",
       "      <td>556.780</td>\n",
       "      <td>555.986</td>\n",
       "      <td>557.015</td>\n",
       "      <td>552.121</td>\n",
       "      <td>549.386</td>\n",
       "      <td>546.495</td>\n",
       "      <td>555.478</td>\n",
       "    </tr>\n",
       "    <tr>\n",
       "      <th>3</th>\n",
       "      <td>454.080</td>\n",
       "      <td>440.873</td>\n",
       "      <td>430.0</td>\n",
       "      <td>430.611</td>\n",
       "      <td>432.959</td>\n",
       "      <td>436.858</td>\n",
       "      <td>442.079</td>\n",
       "      <td>423.822</td>\n",
       "      <td>424.208</td>\n",
       "      <td>424.222</td>\n",
       "      <td>420.051</td>\n",
       "    </tr>\n",
       "    <tr>\n",
       "      <th>4</th>\n",
       "      <td>724.901</td>\n",
       "      <td>721.007</td>\n",
       "      <td>721.0</td>\n",
       "      <td>718.532</td>\n",
       "      <td>725.791</td>\n",
       "      <td>728.787</td>\n",
       "      <td>724.595</td>\n",
       "      <td>721.972</td>\n",
       "      <td>708.368</td>\n",
       "      <td>708.549</td>\n",
       "      <td>707.054</td>\n",
       "    </tr>\n",
       "  </tbody>\n",
       "</table>\n",
       "</div>"
      ],
      "text/plain": [
       "    POP2008   POP2009  POP2010   POP2011   POP2012   POP2013   POP2014  \\\n",
       "0   735.669   730.366    729.0   753.003   755.925   753.326   769.004   \n",
       "1  1163.429  1161.586   1166.0  1190.712  1183.453  1188.344  1167.689   \n",
       "2   560.773   554.900    552.0   559.839   556.780   555.986   557.015   \n",
       "3   454.080   440.873    430.0   430.611   432.959   436.858   442.079   \n",
       "4   724.901   721.007    721.0   718.532   725.791   728.787   724.595   \n",
       "\n",
       "    POP2015   POP2016   POP2017   POP2018  \n",
       "0   764.238   782.272   782.920   783.791  \n",
       "1  1161.424  1153.162  1156.051  1146.257  \n",
       "2   552.121   549.386   546.495   555.478  \n",
       "3   423.822   424.208   424.222   420.051  \n",
       "4   721.972   708.368   708.549   707.054  "
      ]
     },
     "execution_count": 75,
     "metadata": {},
     "output_type": "execute_result"
    }
   ],
   "source": [
    "## Add a column to the shapefile's data table for whether block groups have 'urbanized', \n",
    "## 'no change in category', or 'deurbanized' over the previous decade (i.e. if most recent year is ’18, \n",
    "## then ’08-’18), using the above classification for urban/rural you decided on. \n",
    "## Represent it as a categorical change (a string of text), not in terms of some numerical change. \n",
    "## Fill in the field for all rows! \n",
    "\n",
    "WA_shp_copy = WA_shp[['POP2008', 'POP2009', 'POP2010', 'POP2011', 'POP2012', 'POP2013', 'POP2014', 'POP2015', 'POP2016','POP2017','POP2018']].copy()\n",
    "WA_shp_copy.head()"
   ]
  }
 ],
 "metadata": {
  "kernelspec": {
   "display_name": "Python 2",
   "language": "python",
   "name": "python2"
  },
  "language_info": {
   "codemirror_mode": {
    "name": "ipython",
    "version": 2
   },
   "file_extension": ".py",
   "mimetype": "text/x-python",
   "name": "python",
   "nbconvert_exporter": "python",
   "pygments_lexer": "ipython2",
   "version": "2.7.15"
  }
 },
 "nbformat": 4,
 "nbformat_minor": 2
}
