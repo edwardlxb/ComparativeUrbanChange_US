{
 "cells": [
  {
   "cell_type": "markdown",
   "metadata": {},
   "source": [
    "#### Part 1 Data Description and Overview\n",
    "\n",
    "> A region that encloses a city is called an urban area. Urban areas are developed spaces that have a density of human structures. According to United States Census Bureau, Urban areas in the United States are defined  as *contiguous census block groups with a population density of at least 1,000/sq mi (390/km2) with any census block groups around this core having a density of at least 500/sq mi (190/km2).* US Census Bureau further categorizes two types of urban areas: urbanized areas of 50 000 or more inhabitants and urban clusters of at least 2 500 and less than 50 000 inhabitants.<br>\n",
    "\n",
    "> The definition of an urban area may vary on the context. Different countries have a different classification on \"Urban Areas.\" For example, Canada, as our neighboring countries, see *places of more than 1 000 residents, having a population density of 400 or more per square kilometer as urban areas*. Japan, famous for its large number of inhabitants crowded in Tokyo, defines *cities that have 50,000 or more inhabitants with 60% or more of houses located in the main built-up areas and more than 60% of the population employed in manufacture, trade or other types of urban industries as urban cities.* <br>\n",
    "\n",
    "> In this group lab assignment, we will be using US Census data, and .....It is worth mentioning that, the data involved here has some limitations. The determination of what geographical unit to use to approximate an “urban area” is critically important for the indexes selected for the Census Bureau analysis. It appears inappropriate for the Census Bureau to claim that census tracts defined a half-century ago “represent neighborhoods.” As the Census Bureau, itself notes, “Census tracts...when first delineated, are designed to be homogeneous concerning population\n",
    "characteristics, economic status, and living conditions.” Once defined, the Census Bureau does not allow adjustments of census tract boundaries (except for subdivisions), regardless of whether the neighborhood characteristics change. <br>\n",
    "\n",
    "> Using our decided definition \"contiguous census block groups with a population density of at least 1,000/sq mi (390/km2) with any census block groups around this core having a density of at least 500/sq mi (190/km2)\", we found that **xx%** of the population of the state is urbanized, **xx%** of the land area of the state is urbanized, **xxx** block groups are urbanized and **xxx** block groups are deurbanized in the most recent year.<br>"
   ]
  },
  {
   "cell_type": "code",
   "execution_count": null,
   "metadata": {},
   "outputs": [],
   "source": []
  }
 ],
 "metadata": {
  "kernelspec": {
   "display_name": "Python 2",
   "language": "python",
   "name": "python2"
  },
  "language_info": {
   "codemirror_mode": {
    "name": "ipython",
    "version": 2
   },
   "file_extension": ".py",
   "mimetype": "text/x-python",
   "name": "python",
   "nbconvert_exporter": "python",
   "pygments_lexer": "ipython2",
   "version": "2.7.15"
  }
 },
 "nbformat": 4,
 "nbformat_minor": 2
}
