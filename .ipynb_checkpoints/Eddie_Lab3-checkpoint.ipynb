{
 "cells": [
  {
   "cell_type": "code",
   "execution_count": 3,
   "metadata": {},
   "outputs": [],
   "source": [
    "## GEOG458\n",
    "## Xinbo Lu, Wenjin Yu, Jody Tran, Doyle Park, Abraham Im\n",
    "## 2/15/2019\n",
    "## Group Lab 3\n",
    "import sys\n",
    "sys.path.append('D:\\\\ArcMap\\\\software\\\\Desktop10.5\\\\bin')\n",
    "sys.path.append('D:\\\\ArcMap\\\\software\\\\Desktop10.5\\\\arcpy')\n",
    "sys.path.append('D:\\\\ArcMap\\\\software\\\\Desktop10.5\\\\ArcToolbox\\\\Scripts')\n"
   ]
  },
  {
   "cell_type": "code",
   "execution_count": 4,
   "metadata": {},
   "outputs": [],
   "source": [
    "import arcpy"
   ]
  },
  {
   "cell_type": "code",
   "execution_count": null,
   "metadata": {},
   "outputs": [],
   "source": []
  }
 ],
 "metadata": {
  "kernelspec": {
   "display_name": "Python 2",
   "language": "python",
   "name": "python2"
  },
  "language_info": {
   "codemirror_mode": {
    "name": "ipython",
    "version": 2
   },
   "file_extension": ".py",
   "mimetype": "text/x-python",
   "name": "python",
   "nbconvert_exporter": "python",
   "pygments_lexer": "ipython2",
   "version": "2.7.15"
  }
 },
 "nbformat": 4,
 "nbformat_minor": 2
}
